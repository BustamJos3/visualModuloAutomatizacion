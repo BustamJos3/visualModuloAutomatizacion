{
 "cells": [
  {
   "cell_type": "code",
   "execution_count": 1,
   "metadata": {},
   "outputs": [
    {
     "name": "stdout",
     "output_type": "stream",
     "text": [
      "Note: you may need to restart the kernel to use updated packages.\n"
     ]
    },
    {
     "name": "stderr",
     "output_type": "stream",
     "text": [
      "ERROR: Invalid requirement: '#snap7'\n"
     ]
    }
   ],
   "source": [
    "%pip install python-snap7 #snap7 installation"
   ]
  },
  {
   "cell_type": "code",
   "execution_count": 2,
   "metadata": {},
   "outputs": [],
   "source": [
    "import snap7"
   ]
  },
  {
   "cell_type": "code",
   "execution_count": 3,
   "metadata": {},
   "outputs": [
    {
     "data": {
      "text/plain": [
       "True"
      ]
     },
     "execution_count": 3,
     "metadata": {},
     "output_type": "execute_result"
    }
   ],
   "source": [
    "client=snap7.client.Client()\n",
    "client.connect(\"192.168.0.2\", 0, 1)\n",
    "client.get_connected()"
   ]
  },
  {
   "cell_type": "code",
   "execution_count": 6,
   "metadata": {},
   "outputs": [
    {
     "name": "stdout",
     "output_type": "stream",
     "text": [
      "Note: you may need to restart the kernel to use updated packages.\n"
     ]
    },
    {
     "name": "stderr",
     "output_type": "stream",
     "text": [
      "ERROR: Invalid requirement: '#installations'\n"
     ]
    }
   ],
   "source": [
    "%pip install python-snap7 #installations\n",
    "\n",
    "import snap7 #import library\n",
    "import matplotlib.pyplot as plt\n",
    "\n",
    "class plcComm:\n",
    "    def __init__(self) -> None:#class construction\n",
    "        pass\n",
    "\n",
    "    def connection(self,ip_direction=\"192.168.0.2\"): #connection method to plc\n",
    "        try:\n",
    "            client=snap7.client.Client()#connector instance\n",
    "            client.connect(ip_direction, 0, 1)#make connection: rack 0, slot 1 as default\n",
    "            return client\n",
    "        except Exception as err:\n",
    "            print(\"Conexión no lograda\")\n",
    "            print(err)\n",
    "    \n",
    "    def read_from_db(self):\n",
    "        plc=self.connection() #connect to plc\n",
    "        dbNumber=1\n",
    "        startByte=0 #byte from which to start reading\n",
    "        byteSize=4 #size of value to be read\n",
    "        try:\n",
    "            result = plc.db_read(dbNumber, startByte, byteSize)\n",
    "            lecture=snap7.util.get_real(result,startByte)\n",
    "            return lecture\n",
    "        except Exception as err:\n",
    "            print(\"Lectura no ejecutada\")\n",
    "            print(err)\n",
    "\n",
    "    def write_to_db(self,newValue=5.0):\n",
    "        plc=self.connection()\n",
    "        dbNumber=1\n",
    "        startByte=0 #byte from which to start reading\n",
    "        byteSize=4 #size of value to be read\n",
    "        try:\n",
    "            result = plc.db_read(dbNumber,startByte,byteSize) #read value to change it\n",
    "            snap7.util.set_real(result,startByte,newValue)\n",
    "            plc.db_write(dbNumber,startByte,result)\n",
    "            print(\"Escritura ejecutada\")\n",
    "        except Exception as err:\n",
    "            print(\"Escritura no ejecutada\")\n",
    "            print(err)\n",
    "\n",
    "    def plotting_level(self):\n",
    "        pass"
   ]
  },
  {
   "cell_type": "code",
   "execution_count": 7,
   "metadata": {},
   "outputs": [
    {
     "name": "stdout",
     "output_type": "stream",
     "text": [
      "Escritura ejecutada\n"
     ]
    }
   ],
   "source": [
    "plc_0=plcComm()\n",
    "plc_0.connection()\n",
    "plc_0.write_to_db()"
   ]
  }
 ],
 "metadata": {
  "kernelspec": {
   "display_name": "base",
   "language": "python",
   "name": "python3"
  },
  "language_info": {
   "codemirror_mode": {
    "name": "ipython",
    "version": 3
   },
   "file_extension": ".py",
   "mimetype": "text/x-python",
   "name": "python",
   "nbconvert_exporter": "python",
   "pygments_lexer": "ipython3",
   "version": "3.10.9"
  },
  "orig_nbformat": 4
 },
 "nbformat": 4,
 "nbformat_minor": 2
}
