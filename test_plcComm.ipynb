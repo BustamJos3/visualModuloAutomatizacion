{
 "cells": [
  {
   "cell_type": "code",
   "execution_count": 1,
   "metadata": {},
   "outputs": [
    {
     "name": "stdout",
     "output_type": "stream",
     "text": [
      "Note: you may need to restart the kernel to use updated packages.\n"
     ]
    },
    {
     "name": "stderr",
     "output_type": "stream",
     "text": [
      "ERROR: Invalid requirement: '#snap7'\n"
     ]
    }
   ],
   "source": [
    "%pip install python-snap7 #snap7 installation"
   ]
  },
  {
   "cell_type": "code",
   "execution_count": 2,
   "metadata": {},
   "outputs": [],
   "source": [
    "import snap7"
   ]
  },
  {
   "cell_type": "code",
   "execution_count": 3,
   "metadata": {},
   "outputs": [
    {
     "data": {
      "text/plain": [
       "True"
      ]
     },
     "execution_count": 3,
     "metadata": {},
     "output_type": "execute_result"
    }
   ],
   "source": [
    "client=snap7.client.Client()\n",
    "client.connect(\"192.168.0.2\", 0, 1)\n",
    "client.get_connected()"
   ]
  },
  {
   "cell_type": "code",
   "execution_count": 77,
   "metadata": {},
   "outputs": [
    {
     "name": "stdout",
     "output_type": "stream",
     "text": [
      "Note: you may need to restart the kernel to use updated packages.\n"
     ]
    },
    {
     "name": "stderr",
     "output_type": "stream",
     "text": [
      "ERROR: Invalid requirement: '#installations'\n"
     ]
    }
   ],
   "source": [
    "%pip install python-snap7 #installations\n",
    "\n",
    "import snap7 #import library\n",
    "import ctypes #to create array to store results from reading\n",
    "\n",
    "\n",
    "class plcComm:\n",
    "    def __init__(self) -> None:#class construction\n",
    "        pass\n",
    "\n",
    "    def connection(self,ip_direction=\"192.168.0.2\"): #connection method to plc\n",
    "        client=snap7.client.Client()#connector instance\n",
    "        client.connect(ip_direction, 0, 1)#make connection: rack 0, slot 1 as default\n",
    "        return client\n",
    "    \n",
    "    def read_from_db(self):\n",
    "        plc=self.connection()\n",
    "        dbNumber=1\n",
    "        startByte=0\n",
    "        byteSize=4\n",
    "        try:\n",
    "            result = plc.db_read(dbNumber, startByte, byteSize)\n",
    "            lecture=snap7.util.get_real(result,startByte)\n",
    "            return lecture\n",
    "        except Exception as err:\n",
    "            print(\"Lectura no ejecutada\")\n",
    "            print(err)"
   ]
  },
  {
   "cell_type": "code",
   "execution_count": 78,
   "metadata": {},
   "outputs": [
    {
     "data": {
      "text/plain": [
       "3.4000000953674316"
      ]
     },
     "execution_count": 78,
     "metadata": {},
     "output_type": "execute_result"
    }
   ],
   "source": [
    "plc_0=plcComm()\n",
    "plc_0.connection()\n",
    "d=plc_0.read_from_db()\n",
    "d"
   ]
  }
 ],
 "metadata": {
  "kernelspec": {
   "display_name": "base",
   "language": "python",
   "name": "python3"
  },
  "language_info": {
   "codemirror_mode": {
    "name": "ipython",
    "version": 3
   },
   "file_extension": ".py",
   "mimetype": "text/x-python",
   "name": "python",
   "nbconvert_exporter": "python",
   "pygments_lexer": "ipython3",
   "version": "3.10.9"
  },
  "orig_nbformat": 4
 },
 "nbformat": 4,
 "nbformat_minor": 2
}
